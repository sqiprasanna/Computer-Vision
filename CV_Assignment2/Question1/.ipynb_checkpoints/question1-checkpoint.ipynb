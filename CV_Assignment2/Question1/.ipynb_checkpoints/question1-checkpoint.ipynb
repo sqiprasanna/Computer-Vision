{
 "cells": [
  {
   "cell_type": "code",
   "execution_count": 56,
   "metadata": {},
   "outputs": [],
   "source": [
    "from PIL import Image\n",
    "from pylab import *\n",
    "import scipy\n",
    "from scipy import ndimage\n",
    "from scipy.ndimage import filters\n",
    "import numpy as np\n",
    "import math\n",
    "import cv2\n",
    "import random"
   ]
  },
  {
   "cell_type": "code",
   "execution_count": 57,
   "metadata": {},
   "outputs": [],
   "source": [
    "def sift_and_descriptors(im1, im2):\n",
    "    \"\"\"\n",
    "      function calculates the key points and descriptors\n",
    "    \"\"\"\n",
    "    sift = cv2.xfeatures2d.SIFT_create()\n",
    "    kp1, des1 = sift.detectAndCompute(im1,None)\n",
    "    kp2, des2 = sift.detectAndCompute(im2,None)\n",
    "    return kp1, des1, kp2, des2\n"
   ]
  },
  {
   "cell_type": "code",
   "execution_count": 58,
   "metadata": {},
   "outputs": [],
   "source": [
    "def detect_putative_points(des1, des2, putative_points):\n",
    "    \n",
    "    descdistance = scipy.spatial.distance.cdist(des1,des2,'sqeuclidean') \n",
    "    print(descdistance.shape)\n",
    "    ind = np.unravel_index(np.argsort(descdistance.ravel())[:300], descdistance.shape)\n",
    "    ind = np.asarray(ind)\n",
    "    print(ind.shape)\n",
    "    print(ind[0])\n",
    "    x1 = []\n",
    "    y1 = []\n",
    "    x2 = []\n",
    "    y2 = []\n",
    "    for i in range(ind.shape[1]):\n",
    "        x1,y1 = kp1[ind[0][i]].pt\n",
    "        x2,y2 = kp2[ind[1][i]].pt\n",
    "        putative_points.append([x1,y1,x2,y2])"
   ]
  },
  {
   "cell_type": "code",
   "execution_count": 59,
   "metadata": {},
   "outputs": [],
   "source": [
    "def ransac_and_homography(matched_points, thresh,kp1,kp2):\n",
    "    \n",
    "    maxInliers = []\n",
    "    finalH = []\n",
    "    for i in range(1000):\n",
    "        \n",
    "        rand_point1 = matched_points[random.randrange(0, len(matched_points))]\n",
    "        rand_point2 = matched_points[random.randrange(0, len(matched_points))]\n",
    "        rand_Four = np.vstack((rand_point1, rand_point2))\n",
    "        rand_point3 = matched_points[random.randrange(0, len(matched_points))]\n",
    "        rand_Four = np.vstack((rand_Four, rand_point3))\n",
    "        rand_point4 = matched_points[random.randrange(0, len(matched_points))]\n",
    "        rand_Four = np.vstack((rand_Four, rand_point4))\n",
    "        \n",
    "        A = []\n",
    "        for point in rand_Four:\n",
    "            x1 = np.matrix([point.item(0), point.item(1), 1])\n",
    "            x2 = np.matrix([point.item(2), point.item(3), 1])\n",
    "            \n",
    "            a1 = [-x1.item(0), -x1.item(1), -x1.item(2), 0, 0, 0, x2.item(0) * x1.item(0), x2.item(0) * x1.item(1), x2.item(2)]\n",
    "            a2 = [0, 0, 0, -x1.item(0), -x1.item(1), -x1.item(2), x2.item(1) * x1.item(0), x2.item(1) * x1.item(1), x2.item(1)]\n",
    "            \n",
    "            A.append(a1)\n",
    "            A.append(a2)\n",
    "        A = np.matrix(A)\n",
    "        u, s, v = np.linalg.svd(A)\n",
    "        h = np.reshape(v[8], (3, 3))\n",
    "        h = (1/h.item(8)) * h\n",
    "        inliers = []\n",
    "        for i in range(len(matched_points)):\n",
    "            p1 = np.transpose(np.matrix([matched_points[i][0], matched_points[i][1], 1]))\n",
    "            estimatep2 = np.dot(h, p1)\n",
    "            estimatep2 = (1/estimatep2.item(2))*estimatep2\n",
    "\n",
    "            p2 = np.transpose(np.matrix([matched_points[i][2], matched_points[i][3], 1]))\n",
    "            error = p2 - estimatep2\n",
    "            \n",
    "            if np.linalg.norm(error) < 3:\n",
    "                inliers.append(matched_points[i])\n",
    "\n",
    "        if len(inliers) > len(maxInliers):\n",
    "            maxInliers = inliers\n",
    "            finalH = h\n",
    "\n",
    "        if len(maxInliers) > (len(matched_points)*thresh):\n",
    "            break\n",
    "    return finalH, maxInliers"
   ]
  },
  {
   "cell_type": "code",
   "execution_count": 60,
   "metadata": {},
   "outputs": [
    {
     "name": "stdout",
     "output_type": "stream",
     "text": [
      "(683, 1024, 3)\n"
     ]
    }
   ],
   "source": [
    "im1 = cv2.imread('uttower_left.JPG')\n",
    "im2 = cv2.imread('uttower_right.JPG')\n",
    "gray1= cv2.cvtColor(im1,cv2.COLOR_BGR2GRAY)\n",
    "gray2 = cv2.cvtColor(im2,cv2.COLOR_BGR2GRAY)\n",
    "print(im1.shape)\n",
    "sift = cv2.xfeatures2d.SIFT_create()\n",
    "\n",
    "kp1, des1 = sift.detectAndCompute(gray1,None)\n",
    "kp2, des2 = sift.detectAndCompute(gray2,None)\n",
    "\n",
    "#im1 = array(Image.open('uttower_left.JPG').convert('L'))\n",
    "\n",
    "#im2 = array(Image.open('uttower_right.JPG').convert('L'))\n",
    "#kp1, des1, kp2, des2 = sift_and_descriptors(im1, im2) # calcuating key points and descriptors for both images\n"
   ]
  },
  {
   "cell_type": "code",
   "execution_count": 61,
   "metadata": {},
   "outputs": [
    {
     "name": "stdout",
     "output_type": "stream",
     "text": [
      "(5317, 4196)\n",
      "(2, 300)\n",
      "[3360 4813 4389 4515 4752 2281 4086 4753 4432 4877 3319 4259 4098 5073\n",
      " 3274 3057 4448 4176 4189 4001 4315 4394 4988 5140 3855 2027 1879 5074\n",
      " 4203 3636 2919 4521 3888 4729 3169 4680 1952 3187 4275 4479 4481 2202\n",
      " 4833 3017 5057 5145 4809 2993 4351 4354 3019 3295 3259 3369 4352 3982\n",
      " 3349 3771  164 3135 5267 2861 2690 5172 4231 4067 2994 4413 2600 4382\n",
      " 2035 5178 4989 5006 3923 4540 3642  591 3033 2746  153 3798 5124 5130\n",
      " 3304 4511 1852 1008 2745  164 3942 5244 5008 4026 4718  239  292 3969\n",
      " 4928 3305 3134 4520 4476 4960 4979 5227 3199 4811 4586 5129  337 4251\n",
      " 1878 5184 5171 2044  164 5219 4882 5197 4020 4185 3679 4623 3350 3478\n",
      " 4179 4502   77 4922 3004 3655 3966 4373 4602  167 4519 4742 2933 2985\n",
      " 3780 3766 4247 3985 3932 5281 5040  292 3246 3758 4715 1008 4958 3217\n",
      " 3965 4920 4504 3526 2178 4848 4562 3951 4907 3066 1008 4899 3734 3200\n",
      " 3795 4900 4629 4814  418 4816 5146 4106 4425 4856 3308 2207 4172 2470\n",
      " 3417 5117 3825 2785 4673  175 2854 2750 4985 4121 4723 3238 5079 3189\n",
      " 4544 1379 3148 3196 3039 4539 4700 5133 2177 5065 3978 4825 1844 4947\n",
      " 4585 3590 3520 3029 3116 5152 1260 4975 1843 3403  292 5156 4055  173\n",
      " 2626  164 1341 4739 2515 3956  239 4510 4239 4044 4395 4210 4779 2853\n",
      "  173 3765 4426 4941  591 5107 3289 3228 2462 3491 2524  418  167 3913\n",
      " 5002 3361 5164   77 3692 2940 4640 2463 2184 4401 1812 3488 5119 1880\n",
      " 5078 2672 5009 4589 3603 4672 3824 4412 2807 4923 3599 4344  239 2186\n",
      " 3723 5064 3934 2665  153 4749 2679 5105  418 4653  173 4656 4133  292\n",
      " 4422 4244  188 4654  175 1008]\n"
     ]
    }
   ],
   "source": [
    "putative_points = []\n",
    "detect_putative_points(des1, des2, putative_points)"
   ]
  },
  {
   "cell_type": "code",
   "execution_count": 62,
   "metadata": {},
   "outputs": [
    {
     "name": "stdout",
     "output_type": "stream",
     "text": [
      "[718.3131103515625, 646.9342651367188, 254.88636779785156, 611.8441772460938]\n"
     ]
    }
   ],
   "source": [
    "print(putative_points[0])"
   ]
  },
  {
   "cell_type": "code",
   "execution_count": 63,
   "metadata": {},
   "outputs": [],
   "source": [
    "H, inliers = ransac_and_homography(np.array(putative_points), 0.9,kp2,kp1)"
   ]
  },
  {
   "cell_type": "code",
   "execution_count": 64,
   "metadata": {
    "scrolled": true
   },
   "outputs": [
    {
     "name": "stdout",
     "output_type": "stream",
     "text": [
      "[[-1.80263832e+02 -4.26522856e+01  1.12807187e+05]\n",
      " [-5.19188660e+01 -2.01864480e+02  7.15561965e+04]\n",
      " [-1.04560128e-01 -1.37256778e-01  1.00000000e+00]]\n"
     ]
    }
   ],
   "source": [
    "print(H)"
   ]
  },
  {
   "cell_type": "code",
   "execution_count": 65,
   "metadata": {},
   "outputs": [
    {
     "data": {
      "text/plain": [
       "True"
      ]
     },
     "execution_count": 65,
     "metadata": {},
     "output_type": "execute_result"
    },
    {
     "data": {
      "text/plain": [
       "<Figure size 432x288 with 0 Axes>"
      ]
     },
     "metadata": {},
     "output_type": "display_data"
    }
   ],
   "source": [
    "dst = cv2.warpPerspective(im1,H,(im2.shape[1] + im1.shape[1], im2.shape[0]))\n",
    "cv2.imwrite(\"output.jpg\",dst)\n",
    "#plt.imshow(dst)\n",
    "concat = np.zeros(())\n",
    "#plt.subplot(122),plt.imshow(dst),plt.title(\"Warped Image\")\n",
    "plt.show()\n",
    "plt.figure()\n",
    "dst[0:im1.shape[0], 0:im1.shape[1]] = im2\n",
    "cv2.imwrite(\"output.jpg\",dst)"
   ]
  },
  {
   "cell_type": "code",
   "execution_count": null,
   "metadata": {},
   "outputs": [],
   "source": []
  },
  {
   "cell_type": "code",
   "execution_count": null,
   "metadata": {},
   "outputs": [],
   "source": []
  }
 ],
 "metadata": {
  "kernelspec": {
   "display_name": "Python 3",
   "language": "python",
   "name": "python3"
  },
  "language_info": {
   "codemirror_mode": {
    "name": "ipython",
    "version": 3
   },
   "file_extension": ".py",
   "mimetype": "text/x-python",
   "name": "python",
   "nbconvert_exporter": "python",
   "pygments_lexer": "ipython3",
   "version": "3.6.5"
  }
 },
 "nbformat": 4,
 "nbformat_minor": 2
}
